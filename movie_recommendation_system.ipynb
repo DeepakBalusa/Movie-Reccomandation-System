{
  "nbformat": 4,
  "nbformat_minor": 0,
  "metadata": {
    "kernelspec": {
      "display_name": "Python 3",
      "language": "python",
      "name": "python3"
    },
    "language_info": {
      "codemirror_mode": {
        "name": "ipython",
        "version": 3
      },
      "file_extension": ".py",
      "mimetype": "text/x-python",
      "name": "python",
      "nbconvert_exporter": "python",
      "pygments_lexer": "ipython3",
      "version": "3.7.0"
    },
    "colab": {
      "name": "movie recommendation system",
      "provenance": []
    }
  },
  "cells": [
    {
      "cell_type": "markdown",
      "metadata": {
        "id": "isWg_l8sCxT9"
      },
      "source": [
        "# Movie Recommendation System"
      ]
    },
    {
      "cell_type": "markdown",
      "metadata": {
        "id": "QuDvsfbTCxUD"
      },
      "source": [
        "## Importing Required Libraries "
      ]
    },
    {
      "cell_type": "code",
      "metadata": {
        "id": "WnDlGrpuCxUE"
      },
      "source": [
        "from math import sqrt\n",
        "import pandas as pd\n",
        "import numpy as np\n",
        "from sklearn.feature_extraction.text import TfidfVectorizer\n",
        "from sklearn.metrics.pairwise import linear_kernel"
      ],
      "execution_count": null,
      "outputs": []
    },
    {
      "cell_type": "code",
      "metadata": {
        "id": "w7qO1g0QCxUG"
      },
      "source": [
        "ratings = pd.read_csv('/content/ratings.csv', sep=',', encoding='latin-1', usecols=['userId','movieId','rating','timestamp'])\n",
        "movies = pd.read_csv('/content/movies.csv', sep=',', encoding='latin-1', usecols=['movieId','title','genres'])\n",
        "movies_df = movies\n",
        "ratings_df = ratings"
      ],
      "execution_count": null,
      "outputs": []
    },
    {
      "cell_type": "code",
      "metadata": {
        "id": "GNBz1cHNEET6"
      },
      "source": [
        "import matplotlib.pyplot as plt\n",
        "import seaborn as sns\n",
        "sns.set_style('white')"
      ],
      "execution_count": null,
      "outputs": []
    },
    {
      "cell_type": "code",
      "metadata": {
        "colab": {
          "base_uri": "https://localhost:8080/",
          "height": 203
        },
        "id": "fP_BJRweFUwq",
        "outputId": "571008a0-c682-4aa0-b57d-bd3ca0551bc6"
      },
      "source": [
        "ratings_df.head()"
      ],
      "execution_count": null,
      "outputs": [
        {
          "output_type": "execute_result",
          "data": {
            "text/html": [
              "<div>\n",
              "<style scoped>\n",
              "    .dataframe tbody tr th:only-of-type {\n",
              "        vertical-align: middle;\n",
              "    }\n",
              "\n",
              "    .dataframe tbody tr th {\n",
              "        vertical-align: top;\n",
              "    }\n",
              "\n",
              "    .dataframe thead th {\n",
              "        text-align: right;\n",
              "    }\n",
              "</style>\n",
              "<table border=\"1\" class=\"dataframe\">\n",
              "  <thead>\n",
              "    <tr style=\"text-align: right;\">\n",
              "      <th></th>\n",
              "      <th>userId</th>\n",
              "      <th>movieId</th>\n",
              "      <th>rating</th>\n",
              "      <th>timestamp</th>\n",
              "    </tr>\n",
              "  </thead>\n",
              "  <tbody>\n",
              "    <tr>\n",
              "      <th>0</th>\n",
              "      <td>1</td>\n",
              "      <td>1</td>\n",
              "      <td>4.0</td>\n",
              "      <td>964982703</td>\n",
              "    </tr>\n",
              "    <tr>\n",
              "      <th>1</th>\n",
              "      <td>1</td>\n",
              "      <td>3</td>\n",
              "      <td>4.0</td>\n",
              "      <td>964981247</td>\n",
              "    </tr>\n",
              "    <tr>\n",
              "      <th>2</th>\n",
              "      <td>1</td>\n",
              "      <td>6</td>\n",
              "      <td>4.0</td>\n",
              "      <td>964982224</td>\n",
              "    </tr>\n",
              "    <tr>\n",
              "      <th>3</th>\n",
              "      <td>1</td>\n",
              "      <td>47</td>\n",
              "      <td>5.0</td>\n",
              "      <td>964983815</td>\n",
              "    </tr>\n",
              "    <tr>\n",
              "      <th>4</th>\n",
              "      <td>1</td>\n",
              "      <td>50</td>\n",
              "      <td>5.0</td>\n",
              "      <td>964982931</td>\n",
              "    </tr>\n",
              "  </tbody>\n",
              "</table>\n",
              "</div>"
            ],
            "text/plain": [
              "   userId  movieId  rating  timestamp\n",
              "0       1        1     4.0  964982703\n",
              "1       1        3     4.0  964981247\n",
              "2       1        6     4.0  964982224\n",
              "3       1       47     5.0  964983815\n",
              "4       1       50     5.0  964982931"
            ]
          },
          "metadata": {},
          "execution_count": 4
        }
      ]
    },
    {
      "cell_type": "code",
      "metadata": {
        "colab": {
          "base_uri": "https://localhost:8080/",
          "height": 203
        },
        "id": "s834oR-6CxUI",
        "outputId": "8d67c52a-4fed-40e0-eebc-0697b04d7d89"
      },
      "source": [
        "movies_df.head()"
      ],
      "execution_count": null,
      "outputs": [
        {
          "output_type": "execute_result",
          "data": {
            "text/html": [
              "<div>\n",
              "<style scoped>\n",
              "    .dataframe tbody tr th:only-of-type {\n",
              "        vertical-align: middle;\n",
              "    }\n",
              "\n",
              "    .dataframe tbody tr th {\n",
              "        vertical-align: top;\n",
              "    }\n",
              "\n",
              "    .dataframe thead th {\n",
              "        text-align: right;\n",
              "    }\n",
              "</style>\n",
              "<table border=\"1\" class=\"dataframe\">\n",
              "  <thead>\n",
              "    <tr style=\"text-align: right;\">\n",
              "      <th></th>\n",
              "      <th>movieId</th>\n",
              "      <th>title</th>\n",
              "      <th>genres</th>\n",
              "    </tr>\n",
              "  </thead>\n",
              "  <tbody>\n",
              "    <tr>\n",
              "      <th>0</th>\n",
              "      <td>1</td>\n",
              "      <td>Toy Story (1995)</td>\n",
              "      <td>Adventure|Animation|Children|Comedy|Fantasy</td>\n",
              "    </tr>\n",
              "    <tr>\n",
              "      <th>1</th>\n",
              "      <td>2</td>\n",
              "      <td>Jumanji (1995)</td>\n",
              "      <td>Adventure|Children|Fantasy</td>\n",
              "    </tr>\n",
              "    <tr>\n",
              "      <th>2</th>\n",
              "      <td>3</td>\n",
              "      <td>Grumpier Old Men (1995)</td>\n",
              "      <td>Comedy|Romance</td>\n",
              "    </tr>\n",
              "    <tr>\n",
              "      <th>3</th>\n",
              "      <td>4</td>\n",
              "      <td>Waiting to Exhale (1995)</td>\n",
              "      <td>Comedy|Drama|Romance</td>\n",
              "    </tr>\n",
              "    <tr>\n",
              "      <th>4</th>\n",
              "      <td>5</td>\n",
              "      <td>Father of the Bride Part II (1995)</td>\n",
              "      <td>Comedy</td>\n",
              "    </tr>\n",
              "  </tbody>\n",
              "</table>\n",
              "</div>"
            ],
            "text/plain": [
              "   movieId  ...                                       genres\n",
              "0        1  ...  Adventure|Animation|Children|Comedy|Fantasy\n",
              "1        2  ...                   Adventure|Children|Fantasy\n",
              "2        3  ...                               Comedy|Romance\n",
              "3        4  ...                         Comedy|Drama|Romance\n",
              "4        5  ...                                       Comedy\n",
              "\n",
              "[5 rows x 3 columns]"
            ]
          },
          "metadata": {},
          "execution_count": 5
        }
      ]
    },
    {
      "cell_type": "markdown",
      "metadata": {
        "id": "NYGfCWT8CxUK"
      },
      "source": [
        "### Most popular genres of released movies"
      ]
    },
    {
      "cell_type": "code",
      "metadata": {
        "colab": {
          "base_uri": "https://localhost:8080/"
        },
        "id": "1wNvEBsbFond",
        "outputId": "2af4d362-424c-4f97-f351-c3e98bbb8ae8"
      },
      "source": [
        "geners = movies_df['genres'].apply(lambda generlist : generlist.split(\"|\"))\n",
        "geners"
      ],
      "execution_count": null,
      "outputs": [
        {
          "output_type": "execute_result",
          "data": {
            "text/plain": [
              "0       [Adventure, Animation, Children, Comedy, Fantasy]\n",
              "1                          [Adventure, Children, Fantasy]\n",
              "2                                       [Comedy, Romance]\n",
              "3                                [Comedy, Drama, Romance]\n",
              "4                                                [Comedy]\n",
              "                              ...                        \n",
              "9737                 [Action, Animation, Comedy, Fantasy]\n",
              "9738                         [Animation, Comedy, Fantasy]\n",
              "9739                                              [Drama]\n",
              "9740                                  [Action, Animation]\n",
              "9741                                             [Comedy]\n",
              "Name: genres, Length: 9742, dtype: object"
            ]
          },
          "metadata": {},
          "execution_count": 6
        }
      ]
    },
    {
      "cell_type": "code",
      "metadata": {
        "colab": {
          "base_uri": "https://localhost:8080/",
          "height": 337
        },
        "id": "nBJdh4yACxUK",
        "outputId": "5f4c2a1f-edfb-472f-8cd0-0d16accabe36"
      },
      "source": [
        "plt.figure(figsize=(20,5))\n",
        "geners_count = {}\n",
        "for i in geners:\n",
        "    for j in i:\n",
        "        if(geners_count.get(j,False)):\n",
        "            geners_count[j]=geners_count[j]+1\n",
        "        else:\n",
        "            geners_count[j] = 1       \n",
        "plt.bar(geners_count.keys(),geners_count.values(),color='orange')"
      ],
      "execution_count": null,
      "outputs": [
        {
          "output_type": "execute_result",
          "data": {
            "text/plain": [
              "<BarContainer object of 20 artists>"
            ]
          },
          "metadata": {},
          "execution_count": 7
        },
        {
          "output_type": "display_data",
          "data": {
            "image/png": "[encoded data removed]",
            "text/plain": [
              "<Figure size 1440x360 with 1 Axes>"
            ]
          },
          "metadata": {}
        }
      ]
    },
    {
      "cell_type": "markdown",
      "metadata": {
        "id": "WkZifOgXCxUL"
      },
      "source": [
        "### Distribution of users rating to find outliers"
      ]
    },
    {
      "cell_type": "code",
      "metadata": {
        "colab": {
          "base_uri": "https://localhost:8080/",
          "height": 333
        },
        "id": "ss4uHHT7CxUL",
        "outputId": "940e951d-6ec7-485c-d3f5-14ccfd3ae531"
      },
      "source": [
        "sns.distplot(ratings_df[\"rating\"]);"
      ],
      "execution_count": null,
      "outputs": [
        {
          "output_type": "stream",
          "name": "stderr",
          "text": [
            "/usr/local/lib/python3.7/dist-packages/seaborn/distributions.py:2619: FutureWarning: `distplot` is a deprecated function and will be removed in a future version. Please adapt your code to use either `displot` (a figure-level function with similar flexibility) or `histplot` (an axes-level function for histograms).\n",
            "  warnings.warn(msg, FutureWarning)\n"
          ]
        },
        {
          "output_type": "display_data",
          "data": {
            "image/png": "[encoded data removed]",
            "text/plain": [
              "<Figure size 432x288 with 1 Axes>"
            ]
          },
          "metadata": {}
        }
      ]
    },
    {
      "cell_type": "code",
      "metadata": {
        "colab": {
          "base_uri": "https://localhost:8080/",
          "height": 350
        },
        "id": "vEe7r10dHcex",
        "outputId": "e98902d0-8057-4cc3-daed-cdfbe7fbd48c"
      },
      "source": [
        "sns.boxplot(ratings_df['rating'])"
      ],
      "execution_count": null,
      "outputs": [
        {
          "output_type": "stream",
          "name": "stderr",
          "text": [
            "/usr/local/lib/python3.7/dist-packages/seaborn/_decorators.py:43: FutureWarning: Pass the following variable as a keyword arg: x. From version 0.12, the only valid positional argument will be `data`, and passing other arguments without an explicit keyword will result in an error or misinterpretation.\n",
            "  FutureWarning\n"
          ]
        },
        {
          "output_type": "execute_result",
          "data": {
            "text/plain": [
              "<matplotlib.axes._subplots.AxesSubplot at 0x7f4505fda990>"
            ]
          },
          "metadata": {},
          "execution_count": 9
        },
        {
          "output_type": "display_data",
          "data": {
            "image/png": "[encoded data removed]",
            "text/plain": [
              "<Figure size 432x288 with 1 Axes>"
            ]
          },
          "metadata": {}
        }
      ]
    },
    {
      "cell_type": "code",
      "metadata": {
        "scrolled": true,
        "colab": {
          "base_uri": "https://localhost:8080/"
        },
        "id": "c0u9bY5UCxUM",
        "outputId": "b88eb3e7-8e99-40b5-fe2a-085a26164e00"
      },
      "source": [
        "print(\"Shape of frames: \\n\"+ \" Rating DataFrame\"+ str(ratings_df.shape)+\"\\n Movies DataFrame\"+ str(movies_df.shape))"
      ],
      "execution_count": null,
      "outputs": [
        {
          "output_type": "stream",
          "name": "stdout",
          "text": [
            "Shape of frames: \n",
            " Rating DataFrame(100836, 4)\n",
            " Movies DataFrame(9742, 3)\n"
          ]
        }
      ]
    },
    {
      "cell_type": "code",
      "metadata": {
        "id": "t10tTnr5CxUM"
      },
      "source": [
        "merged_ratings = pd.merge(movies_df, ratings_df, on='movieId', how='inner')"
      ],
      "execution_count": null,
      "outputs": []
    },
    {
      "cell_type": "code",
      "metadata": {
        "colab": {
          "base_uri": "https://localhost:8080/",
          "height": 203
        },
        "id": "FQRaTuGMCxUN",
        "outputId": "f60dd7b7-ddbb-4ed9-9388-ec7a75b4f96a"
      },
      "source": [
        "merged_ratings.head()"
      ],
      "execution_count": null,
      "outputs": [
        {
          "output_type": "execute_result",
          "data": {
            "text/html": [
              "<div>\n",
              "<style scoped>\n",
              "    .dataframe tbody tr th:only-of-type {\n",
              "        vertical-align: middle;\n",
              "    }\n",
              "\n",
              "    .dataframe tbody tr th {\n",
              "        vertical-align: top;\n",
              "    }\n",
              "\n",
              "    .dataframe thead th {\n",
              "        text-align: right;\n",
              "    }\n",
              "</style>\n",
              "<table border=\"1\" class=\"dataframe\">\n",
              "  <thead>\n",
              "    <tr style=\"text-align: right;\">\n",
              "      <th></th>\n",
              "      <th>movieId</th>\n",
              "      <th>title</th>\n",
              "      <th>genres</th>\n",
              "      <th>userId</th>\n",
              "      <th>rating</th>\n",
              "      <th>timestamp</th>\n",
              "    </tr>\n",
              "  </thead>\n",
              "  <tbody>\n",
              "    <tr>\n",
              "      <th>0</th>\n",
              "      <td>1</td>\n",
              "      <td>Toy Story (1995)</td>\n",
              "      <td>Adventure|Animation|Children|Comedy|Fantasy</td>\n",
              "      <td>1</td>\n",
              "      <td>4.0</td>\n",
              "      <td>964982703</td>\n",
              "    </tr>\n",
              "    <tr>\n",
              "      <th>1</th>\n",
              "      <td>1</td>\n",
              "      <td>Toy Story (1995)</td>\n",
              "      <td>Adventure|Animation|Children|Comedy|Fantasy</td>\n",
              "      <td>5</td>\n",
              "      <td>4.0</td>\n",
              "      <td>847434962</td>\n",
              "    </tr>\n",
              "    <tr>\n",
              "      <th>2</th>\n",
              "      <td>1</td>\n",
              "      <td>Toy Story (1995)</td>\n",
              "      <td>Adventure|Animation|Children|Comedy|Fantasy</td>\n",
              "      <td>7</td>\n",
              "      <td>4.5</td>\n",
              "      <td>1106635946</td>\n",
              "    </tr>\n",
              "    <tr>\n",
              "      <th>3</th>\n",
              "      <td>1</td>\n",
              "      <td>Toy Story (1995)</td>\n",
              "      <td>Adventure|Animation|Children|Comedy|Fantasy</td>\n",
              "      <td>15</td>\n",
              "      <td>2.5</td>\n",
              "      <td>1510577970</td>\n",
              "    </tr>\n",
              "    <tr>\n",
              "      <th>4</th>\n",
              "      <td>1</td>\n",
              "      <td>Toy Story (1995)</td>\n",
              "      <td>Adventure|Animation|Children|Comedy|Fantasy</td>\n",
              "      <td>17</td>\n",
              "      <td>4.5</td>\n",
              "      <td>1305696483</td>\n",
              "    </tr>\n",
              "  </tbody>\n",
              "</table>\n",
              "</div>"
            ],
            "text/plain": [
              "   movieId             title  ... rating   timestamp\n",
              "0        1  Toy Story (1995)  ...    4.0   964982703\n",
              "1        1  Toy Story (1995)  ...    4.0   847434962\n",
              "2        1  Toy Story (1995)  ...    4.5  1106635946\n",
              "3        1  Toy Story (1995)  ...    2.5  1510577970\n",
              "4        1  Toy Story (1995)  ...    4.5  1305696483\n",
              "\n",
              "[5 rows x 6 columns]"
            ]
          },
          "metadata": {},
          "execution_count": 12
        }
      ]
    },
    {
      "cell_type": "code",
      "metadata": {
        "id": "tE4kPW3aCxUN"
      },
      "source": [
        "merged_ratings = merged_ratings.drop('timestamp', axis=1)"
      ],
      "execution_count": null,
      "outputs": []
    },
    {
      "cell_type": "code",
      "metadata": {
        "colab": {
          "base_uri": "https://localhost:8080/"
        },
        "id": "m9aa3LFaCxUN",
        "outputId": "b64dda06-1fbd-416e-fe11-75517fb0af5c"
      },
      "source": [
        "merged_ratings.shape"
      ],
      "execution_count": null,
      "outputs": [
        {
          "output_type": "execute_result",
          "data": {
            "text/plain": [
              "(100836, 5)"
            ]
          },
          "metadata": {},
          "execution_count": 14
        }
      ]
    },
    {
      "cell_type": "markdown",
      "metadata": {
        "id": "3Huj3TsGNMV6"
      },
      "source": [
        "#Content based filtering"
      ]
    },
    {
      "cell_type": "markdown",
      "metadata": {
        "id": "IsQvHoHeNYKu"
      },
      "source": [
        "\n",
        "\n",
        "*   Define a TF-IDF Vectorizer Object.\n",
        "*   Replacing NaN with an empty string.\n",
        "\n"
      ]
    },
    {
      "cell_type": "code",
      "metadata": {
        "id": "nVDfVJd7CxUT"
      },
      "source": [
        "tfidf_movies_genres = TfidfVectorizer(token_pattern = '[a-zA-Z0-9\\-]+')\n",
        "movies_df['genres'] = movies_df['genres'].replace(to_replace=\"(no genres listed)\", value=\"\")"
      ],
      "execution_count": null,
      "outputs": []
    },
    {
      "cell_type": "markdown",
      "metadata": {
        "id": "XQTEov8BNxfB"
      },
      "source": [
        "* Construct the required TF-IDF matrix by fitting and transforming the data\n",
        "* Computing the cosine similarity matrix"
      ]
    },
    {
      "cell_type": "code",
      "metadata": {
        "colab": {
          "base_uri": "https://localhost:8080/"
        },
        "id": "sH_TVzZBNue3",
        "outputId": "e899c079-02dd-48a6-9a2b-12626f87db1f"
      },
      "source": [
        "tfidf_movies_genres_matrix = tfidf_movies_genres.fit_transform(movies_df['genres'])\n",
        "print(tfidf_movies_genres.get_feature_names())\n",
        "print(tfidf_movies_genres_matrix.shape)\n",
        "print(tfidf_movies_genres_matrix.dtype)\n",
        "cosine_sim_movies = linear_kernel(tfidf_movies_genres_matrix, tfidf_movies_genres_matrix)\n",
        "print(cosine_sim_movies)"
      ],
      "execution_count": null,
      "outputs": [
        {
          "output_type": "stream",
          "name": "stdout",
          "text": [
            "['action', 'adventure', 'animation', 'children', 'comedy', 'crime', 'documentary', 'drama', 'fantasy', 'film-noir', 'horror', 'imax', 'musical', 'mystery', 'romance', 'sci-fi', 'thriller', 'war', 'western']\n",
            "(9742, 19)\n",
            "float64\n",
            "[[1.         0.81357774 0.15276924 ... 0.         0.4210373  0.26758648]\n",
            " [0.81357774 1.         0.         ... 0.         0.         0.        ]\n",
            " [0.15276924 0.         1.         ... 0.         0.         0.57091541]\n",
            " ...\n",
            " [0.         0.         0.         ... 1.         0.         0.        ]\n",
            " [0.4210373  0.         0.         ... 0.         1.         0.        ]\n",
            " [0.26758648 0.         0.57091541 ... 0.         0.         1.        ]]\n"
          ]
        }
      ]
    },
    {
      "cell_type": "markdown",
      "metadata": {
        "id": "epVvSNLOOB7W"
      },
      "source": [
        "Calculating the top 2 movies to recommend based on given movie titles genres."
      ]
    },
    {
      "cell_type": "code",
      "metadata": {
        "id": "Nk4jZjaGCxUU"
      },
      "source": [
        "def get_recommendations_based_on_genres(movie_title, cosine_sim_movies=cosine_sim_movies):\n",
        "    idx_movie = movies_df.loc[movies_df['title'].isin([movie_title])]\n",
        "    idx_movie = idx_movie.index\n",
        "    sim_scores_movies = list(enumerate(cosine_sim_movies[idx_movie][0]))\n",
        "    sim_scores_movies = sorted(sim_scores_movies, key=lambda x: x[1], reverse=True)\n",
        "    sim_scores_movies = sim_scores_movies[1:5]\n",
        "    movie_indices = [i[0] for i in sim_scores_movies]\n",
        "    return movies_df['title'].iloc[movie_indices]\n"
      ],
      "execution_count": null,
      "outputs": []
    },
    {
      "cell_type": "code",
      "metadata": {
        "id": "EBi2TNi6CxUU",
        "colab": {
          "base_uri": "https://localhost:8080/"
        },
        "outputId": "7e750fd8-be9a-49f8-aaeb-21ae7b70ffcb"
      },
      "source": [
        "get_recommendations_based_on_genres(\"Toy Story (1995)\")"
      ],
      "execution_count": null,
      "outputs": [
        {
          "output_type": "execute_result",
          "data": {
            "text/plain": [
              "1706                                       Antz (1998)\n",
              "2355                                Toy Story 2 (1999)\n",
              "2809    Adventures of Rocky and Bullwinkle, The (2000)\n",
              "3000                  Emperor's New Groove, The (2000)\n",
              "Name: title, dtype: object"
            ]
          },
          "metadata": {},
          "execution_count": 38
        }
      ]
    },
    {
      "cell_type": "markdown",
      "metadata": {
        "id": "sDIDlDMAO-PQ"
      },
      "source": [
        "Calculating top movies to be recommended to user based on movie user has watched."
      ]
    },
    {
      "cell_type": "code",
      "metadata": {
        "id": "ocIMHViFCxUU"
      },
      "source": [
        "def get_recommendation_content_model(userId):\n",
        "    recommended_movie_list = []\n",
        "    movie_list = []\n",
        "    df_rating_filtered = ratings_df[ratings_df[\"userId\"]== userId]\n",
        "    for key, row in df_rating_filtered.iterrows():\n",
        "        movie_list.append((movies_df[\"title\"][row[\"movieId\"]==movies_df[\"movieId\"]]).values) \n",
        "    for index, movie in enumerate(movie_list):\n",
        "        for key, movie_recommended in get_recommendations_based_on_genres(movie[0]).iteritems():\n",
        "            recommended_movie_list.append(movie_recommended)   \n",
        "    for movie_title in recommended_movie_list:\n",
        "        if movie_title in movie_list:\n",
        "            recommended_movie_list.remove(movie_title)\n",
        "    \n",
        "    return set(recommended_movie_list)"
      ],
      "execution_count": null,
      "outputs": []
    },
    {
      "cell_type": "code",
      "metadata": {
        "colab": {
          "base_uri": "https://localhost:8080/"
        },
        "id": "7XJZdlmtPP18",
        "outputId": "26a0ee82-b426-464e-d12e-c8b3c030a4c0"
      },
      "source": [
        "get_recommendation_content_model(101)"
      ],
      "execution_count": null,
      "outputs": [
        {
          "output_type": "execute_result",
          "data": {
            "text/plain": [
              "{'39 Steps, The (1935)',\n",
              " 'Ace Ventura: When Nature Calls (1995)',\n",
              " 'Adventures in Babysitting (1987)',\n",
              " 'AlienÂ³ (a.k.a. Alien 3) (1992)',\n",
              " 'Allan Quatermain and the Lost City of Gold (1987)',\n",
              " 'Amateur (1994)',\n",
              " 'American President, The (1995)',\n",
              " \"Antonia's Line (Antonia) (1995)\",\n",
              " 'Armour of God II: Operation Condor (Operation Condor) (Fei ying gai wak) (1991)',\n",
              " 'Around the World in 80 Days (1956)',\n",
              " 'Back to the Future (1985)',\n",
              " 'Back to the Future Part II (1989)',\n",
              " 'Batman Returns (1992)',\n",
              " 'Beautiful Girls (1996)',\n",
              " 'Beauty and the Beast (1991)',\n",
              " 'Ben-Hur (1959)',\n",
              " 'Beverly Hills Ninja (1997)',\n",
              " 'Big Bully (1996)',\n",
              " 'Bio-Dome (1996)',\n",
              " 'Blink (1994)',\n",
              " 'Blown Away (1994)',\n",
              " 'Broken Arrow (1996)',\n",
              " 'Carpool (1996)',\n",
              " 'Clear and Present Danger (1994)',\n",
              " 'Cliffhanger (1993)',\n",
              " 'Clueless (1995)',\n",
              " 'Crocodile Dundee II (1988)',\n",
              " 'Cry, the Beloved Country (1995)',\n",
              " 'Dangerous Minds (1995)',\n",
              " 'Dead Man Walking (1995)',\n",
              " 'Demolition Man (1993)',\n",
              " 'Discreet Charm of the Bourgeoisie, The (Charme discret de la bourgeoisie, Le) (1972)',\n",
              " 'Drop Zone (1994)',\n",
              " \"Eight Crazy Nights (Adam Sandler's Eight Crazy Nights) (2002)\",\n",
              " 'Escape from L.A. (1996)',\n",
              " 'Escape from New York (1981)',\n",
              " 'Executive Decision (1996)',\n",
              " 'Four Rooms (1995)',\n",
              " 'French Twist (Gazon maudit) (1995)',\n",
              " 'Fresh (1994)',\n",
              " 'Friday (1995)',\n",
              " 'Friday the 13th (1980)',\n",
              " 'Game, The (1997)',\n",
              " 'Garfield: The Movie (2004)',\n",
              " 'Gods Must Be Crazy, The (1980)',\n",
              " 'Godzilla 1985: The Legend Is Reborn (Gojira) (Godzilla) (Return of Godzilla, The) (1984)',\n",
              " 'Happy Feet Two (2011)',\n",
              " 'Hate (Haine, La) (1995)',\n",
              " 'Heartless (2009)',\n",
              " 'Hideaway (1995)',\n",
              " 'Highlander III: The Sorcerer (a.k.a. Highlander: The Final Dimension) (1994)',\n",
              " 'How to Make an American Quilt (1995)',\n",
              " 'Howard the Duck (1986)',\n",
              " 'I Know What You Did Last Summer (1997)',\n",
              " 'I Still Know What You Did Last Summer (1998)',\n",
              " 'In the Bleak Midwinter (1995)',\n",
              " 'In the Line of Fire (1993)',\n",
              " 'In the Mouth of Madness (1995)',\n",
              " 'Independence Day (a.k.a. ID4) (1996)',\n",
              " 'Insomnia (1997)',\n",
              " 'Johnny Mnemonic (1995)',\n",
              " 'Just Cause (1995)',\n",
              " 'Killer, The (Die xue shuang xiong) (1989)',\n",
              " 'Killing Zoe (1994)',\n",
              " 'Kiss of Death (1995)',\n",
              " 'Last Man Standing (1996)',\n",
              " 'Leaving Las Vegas (1995)',\n",
              " 'Let Me In (2010)',\n",
              " 'Lion King, The (1994)',\n",
              " 'Low Down Dirty Shame, A (1994)',\n",
              " 'LÃ©on: The Professional (a.k.a. The Professional) (LÃ©on) (1994)',\n",
              " 'Man Who Would Be King, The (1975)',\n",
              " 'Man in the Iron Mask, The (1998)',\n",
              " 'Mars Attacks! (1996)',\n",
              " 'Meet the Feebles (1989)',\n",
              " 'Men in Black (a.k.a. MIB) (1997)',\n",
              " 'Men in Black II (a.k.a. MIIB) (a.k.a. MIB 2) (2002)',\n",
              " 'Mighty Aphrodite (1995)',\n",
              " 'Milagro Beanfield War (1988)',\n",
              " 'Money Talks (1997)',\n",
              " 'Ninth Gate, The (1999)',\n",
              " 'Nobody Loves Me (Keiner liebt mich) (1994)',\n",
              " 'Nothing But Trouble (1991)',\n",
              " 'Old Man and the Sea, The (1958)',\n",
              " 'One Man Band (2005)',\n",
              " 'One Tough Cop (1998)',\n",
              " 'Othello (1995)',\n",
              " 'Persuasion (1995)',\n",
              " 'Pleasantville (1998)',\n",
              " 'Poseidon Adventure, The (1972)',\n",
              " 'Postman, The (Postino, Il) (1994)',\n",
              " 'Prince of Egypt, The (1998)',\n",
              " 'Prophecy, The (1995)',\n",
              " 'R.I.P.D. (2013)',\n",
              " 'Rear Window (1954)',\n",
              " 'Red Riding Hood (2011)',\n",
              " 'Red Rock West (1992)',\n",
              " 'Relic, The (1997)',\n",
              " 'Restoration (1995)',\n",
              " 'River Wild, The (1994)',\n",
              " 'Robin Hood: Prince of Thieves (1991)',\n",
              " 'Rugrats Movie, The (1998)',\n",
              " 'Rugrats in Paris: The Movie (2000)',\n",
              " 'Sabrina (1995)',\n",
              " 'Safe (1995)',\n",
              " 'Screamers (1995)',\n",
              " 'Set It Off (1996)',\n",
              " 'Seven Samurai (Shichinin no samurai) (1954)',\n",
              " 'Shanghai Triad (Yao a yao yao dao waipo qiao) (1995)',\n",
              " 'Some Like It Hot (1959)',\n",
              " 'Spirit, The (2008)',\n",
              " 'Spirits of the Dead (1968)',\n",
              " 'Stand by Me (1986)',\n",
              " 'Star Trek IV: The Voyage Home (1986)',\n",
              " 'Star Wars: Episode IV - A New Hope (1977)',\n",
              " 'Star Wars: Episode V - The Empire Strikes Back (1980)',\n",
              " 'Stargate (1994)',\n",
              " 'Striking Distance (1993)',\n",
              " 'Striptease (1996)',\n",
              " 'Surviving the Game (1994)',\n",
              " 'Tales from the Crypt Presents: Demon Knight (1995)',\n",
              " 'Tangled (2010)',\n",
              " \"The Devil's Advocate (1997)\",\n",
              " 'The Neon Demon (2016)',\n",
              " 'Thin Man, The (1934)',\n",
              " 'Thing, The (1982)',\n",
              " 'Thinner (1996)',\n",
              " 'Timecop (1994)',\n",
              " 'True Crime (1996)',\n",
              " 'Two if by Sea (1996)',\n",
              " 'Underneath (1995)',\n",
              " 'Virtuosity (1995)',\n",
              " 'What Lies Beneath (2000)',\n",
              " 'When Night Is Falling (1995)',\n",
              " 'Wizards of the Lost Kingdom II (1989)',\n",
              " \"Young Poisoner's Handbook, The (1995)\"}"
            ]
          },
          "metadata": {},
          "execution_count": 39
        }
      ]
    },
    {
      "cell_type": "markdown",
      "metadata": {
        "id": "kJy1EsJ7CxUU"
      },
      "source": [
        "# Model evaluation with KNN\n",
        "Here the model is evaluated based on if there is exact match of genres with the genres of movie which is already watch by user "
      ]
    },
    {
      "cell_type": "code",
      "metadata": {
        "id": "I5hPUlEYCxUV"
      },
      "source": [
        "from sklearn.neighbors import KNeighborsClassifier  \n",
        "def get_movie_label(movie_id):\n",
        "    classifier = KNeighborsClassifier(n_neighbors=5)\n",
        "    x= tfidf_movies_genres_matrix\n",
        "    y = movies_df.iloc[:,-1]\n",
        "    classifier.fit(x, y)\n",
        "    y_pred = classifier.predict(tfidf_movies_genres_matrix[movie_id])\n",
        "    return y_pred"
      ],
      "execution_count": null,
      "outputs": []
    },
    {
      "cell_type": "code",
      "metadata": {
        "id": "Jm3xjLZNCxUV",
        "colab": {
          "base_uri": "https://localhost:8080/"
        },
        "outputId": "b41b4a6c-ea06-48b8-9d82-6317b3da2f18"
      },
      "source": [
        "true_count = 0\n",
        "false_count = 0\n",
        "def evaluate_content_based_model():\n",
        "    for key, colums in movies_df.iterrows():\n",
        "        movies_recommended_by_model = get_recommendations_based_on_genres(colums[\"title\"])\n",
        "        predicted_genres  = get_movie_label(movies_recommended_by_model.index)\n",
        "        for predicted_genre in predicted_genres:\n",
        "            global true_count, false_count\n",
        "            if predicted_genre == colums[\"genres\"]:\n",
        "                true_count = true_count+1\n",
        "            else:\n",
        "#                 print(colums[\"genres\"])\n",
        "#                 print(predicted_genre)\n",
        "                false_count = false_count +1\n",
        "evaluate_content_based_model()\n",
        "total = true_count + false_count\n",
        "print(\"Hit:\"+ str(true_count/total))\n",
        "print(\"Fault:\" + str(false_count/total))"
      ],
      "execution_count": null,
      "outputs": [
        {
          "output_type": "stream",
          "name": "stdout",
          "text": [
            "Hit:0.9325087251077807\n",
            "Fault:0.06749127489221926\n"
          ]
        }
      ]
    }
  ]
}